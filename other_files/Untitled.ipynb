{
 "cells": [
  {
   "cell_type": "code",
   "execution_count": 3,
   "metadata": {},
   "outputs": [],
   "source": [
    "import numpy as np"
   ]
  },
  {
   "cell_type": "code",
   "execution_count": 4,
   "metadata": {},
   "outputs": [],
   "source": [
    "class SumTree:\n",
    "    #Binary SumTree: leaves contain priorities and data array contains index to leaves\n",
    "    #index of each leaf in sum tree is index of experience in data\n",
    "    # for tree of size n, the leaf nodes have index n/2, n/2+1,n/2+2....n or, tree[-size:] are leaf nodes\n",
    "    \n",
    "    data_pointer = 0\n",
    "    def __init__(self,size):\n",
    "        self.size=size #number of leaf nodes\n",
    "        #initialize Tree with zero nodes\n",
    "        self.tree = np.zeros(2*size - 1) # Each node has 2 children, and root node is counted twice\n",
    "        #initialize data array with zeroes\n",
    "        self.data = np.zeros(size, dtype = object) # we are storing pointers to other data. so we can perform operations on this object\n",
    "        \n",
    "    def add(self,data,priority): \n",
    "        #add priority score to leaf and experience to data\n",
    "        index = self.data_pointer+self.size-1 #Calculate index for new entry\n",
    "        self.data[self.data_pointer] = data   #Insert new entry as to data array\n",
    "        self.update(index,priority)           #Perform Percolation to update table\n",
    "        self.data_pointer+=1                  #update tree pointer\n",
    "        if self.data_pointer>=capacity :  \n",
    "            self.data_pointer = 0             # Overwrite if we exhaust tree\n",
    "        \n",
    "        \n",
    "    def update(self,index,priority):\n",
    "        #update leaf priority by percolation\n",
    "        # for ith node, (i-1)//2 is parent, 2i+1 is left child and 2i+2 is right child \n",
    "        \n",
    "        delta = priority - self.tree[index]\n",
    "        self.tree[tree_index] = priority\n",
    "        while index!=0:\n",
    "            index = (index-1)//2            #index to parent node\n",
    "            self.tree[tree_index]+=delta    # add the change to update values of parent to parent+change\n",
    "            \n",
    "        \n",
    "    \n",
    "    def get_leaf(self,value):\n",
    "        #get priority score, experience tuple and index for leaf given value of leaf\n",
    "        \n",
    "        i = 0\n",
    "        while True: \n",
    "            left_child = 2*i+1\n",
    "            right_child = left_child+1         #Tree data is indexed from left to right\n",
    "            if value<=self.tree[left_child]:\n",
    "                i = left_child                 #Follow left sub tree\n",
    "            else:\n",
    "                value-= self.tree[left_child   # get the remainder and follow right sub tree\n",
    "                i=right_child\n",
    "        #index of data and tree follows the equation tree_pointer = tree_size -1 + array_index \n",
    "        index = i + 1 - self.size\n",
    "        return \n",
    "        \n",
    "    #def total_priority(self):\n",
    "        #get value of total priority from root node.\n",
    "    "
   ]
  },
  {
   "cell_type": "code",
   "execution_count": 5,
   "metadata": {},
   "outputs": [],
   "source": [
    "experiences = np.array([['E0',10],['E1',7],['E2',3],['E3',11],['E4',15],['E5',2],['E6',13],['E7',5],['E8',1],['E8',7]])"
   ]
  },
  {
   "cell_type": "code",
   "execution_count": null,
   "metadata": {},
   "outputs": [],
   "source": [
    "st = SumTree(10)"
   ]
  }
 ],
 "metadata": {
  "kernelspec": {
   "display_name": "drlnd",
   "language": "python",
   "name": "drlnd"
  },
  "language_info": {
   "codemirror_mode": {
    "name": "ipython",
    "version": 3
   },
   "file_extension": ".py",
   "mimetype": "text/x-python",
   "name": "python",
   "nbconvert_exporter": "python",
   "pygments_lexer": "ipython3",
   "version": "3.6.6"
  }
 },
 "nbformat": 4,
 "nbformat_minor": 2
}
